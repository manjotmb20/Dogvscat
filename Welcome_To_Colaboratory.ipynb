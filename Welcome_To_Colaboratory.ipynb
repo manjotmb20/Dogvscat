{
  "nbformat": 4,
  "nbformat_minor": 0,
  "metadata": {
    "colab": {
      "name": "Welcome To Colaboratory",
      "provenance": [],
      "collapsed_sections": [],
      "toc_visible": true,
      "include_colab_link": true
    },
    "kernelspec": {
      "name": "python3",
      "display_name": "Python 3"
    },
    "accelerator": "GPU"
  },
  "cells": [
    {
      "cell_type": "markdown",
      "metadata": {
        "id": "view-in-github",
        "colab_type": "text"
      },
      "source": [
        "<a href=\"https://colab.research.google.com/github/manjotmb20/Dogvscat/blob/master/Welcome_To_Colaboratory.ipynb\" target=\"_parent\"><img src=\"https://colab.research.google.com/assets/colab-badge.svg\" alt=\"Open In Colab\"/></a>"
      ]
    },
    {
      "cell_type": "code",
      "metadata": {
        "id": "zZ0w3OvZ9hGi",
        "colab_type": "code",
        "colab": {
          "base_uri": "https://localhost:8080/",
          "height": 68
        },
        "outputId": "a6bb71e8-2f80-46c1-aefa-cbfc726e2560"
      },
      "source": [
        "def chords(n):\n",
        "  mod=10**9+7\n",
        "  if n==0 or n==1:\n",
        "    return 1\n",
        "  nchord=[0]*(n+1)  \n",
        "  nchord[0]=1\n",
        "  nchord[1]=1\n",
        "  for i in range(2,n+1):\n",
        "    nchord[i]=0\n",
        "    for j in range(0,i):\n",
        "      nchord[i]=(nchord[i]+nchord[j]*nchord[i-j-1])\n",
        "  return nchord[n]%mod   \n",
        "\n",
        "\n",
        "print(\"Enter the number of chords\")\n",
        "A=int(input())\n",
        "c=chords(A)\n",
        "print(c)\n"
      ],
      "execution_count": 23,
      "outputs": [
        {
          "output_type": "stream",
          "text": [
            "Enter the number of chords\n",
            "3\n",
            "5\n"
          ],
          "name": "stdout"
        }
      ]
    },
    {
      "cell_type": "code",
      "metadata": {
        "id": "LEKSQaoPWwO2",
        "colab_type": "code",
        "colab": {}
      },
      "source": [
        ""
      ],
      "execution_count": 0,
      "outputs": []
    }
  ]
}